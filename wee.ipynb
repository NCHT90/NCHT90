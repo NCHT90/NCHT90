{
 "cells": [
  {
   "cell_type": "code",
   "execution_count": null,
   "id": "9f120b57-9417-4187-b89b-643c563aae99",
   "metadata": {
    "tags": []
   },
   "outputs": [],
   "source": [
    "3-58 "
   ]
  },
  {
   "cell_type": "code",
   "execution_count": null,
   "id": "0b3e7782-8740-4eb0-89dd-b27a7f10ce15",
   "metadata": {
    "tags": []
   },
   "outputs": [],
   "source": [
    "3-58 "
   ]
  },
  {
   "cell_type": "markdown",
   "id": "9ad759e2-7802-4207-b88c-10ef0843c321",
   "metadata": {
    "tags": []
   },
   "source": [
    "puto el que lee"
   ]
  },
  {
   "cell_type": "code",
   "execution_count": 3,
   "id": "d36312d2-c419-48d2-b310-0407bbb26ea1",
   "metadata": {
    "tags": []
   },
   "outputs": [
    {
     "data": {
      "text/plain": [
       "-55"
      ]
     },
     "execution_count": 3,
     "metadata": {},
     "output_type": "execute_result"
    }
   ],
   "source": [
    "3-58 "
   ]
  },
  {
   "cell_type": "code",
   "execution_count": null,
   "id": "92b681f1-7b3b-408c-97f8-368f2dccbfa5",
   "metadata": {},
   "outputs": [],
   "source": []
  }
 ],
 "metadata": {
  "kernelspec": {
   "display_name": "Python",
   "language": "python",
   "name": "conda-env-python-py"
  },
  "language_info": {
   "codemirror_mode": {
    "name": "ipython",
    "version": 3
   },
   "file_extension": ".py",
   "mimetype": "text/x-python",
   "name": "python",
   "nbconvert_exporter": "python",
   "pygments_lexer": "ipython3",
   "version": "3.6.13"
  }
 },
 "nbformat": 4,
 "nbformat_minor": 5
}
